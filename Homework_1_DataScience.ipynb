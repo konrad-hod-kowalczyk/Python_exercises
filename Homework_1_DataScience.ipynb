{
 "cells": [
  {
   "cell_type": "code",
   "execution_count": 27,
   "metadata": {},
   "outputs": [],
   "source": [
    "#Learn more or give us feedback\n",
    "from typing import List\n",
    "import pandas as pd\n",
    "import datetime\n",
    "CONFIRMED_CASES_URL = f\"https://raw.githubusercontent.com/CSSEGISandData/COVID-19/master/csse_covid_19_data/csse_covid_19_time_series/time_series_19-covid-Confirmed.csv \"    \n",
    "df = pd.read_csv(CONFIRMED_CASES_URL, error_bad_lines=False)\n",
    "\n",
    "\"\"\"\n",
    "When downloading data it's better to do it in a global scope instead of a function.\n",
    "This speeds up the tests significantly\n",
    "\"\"\"\n",
    "\n",
    "\n",
    "def poland_cases_by_date(day: int, month: int, year: int = 2020) -> int:\n",
    "    \"\"\"\n",
    "    Returns confirmed infection cases for country 'Poland' given a date.\n",
    "    Ex.\n",
    "    >>> poland_cases_by_date(7, 3, 2020)\n",
    "    5\n",
    "    >>> poland_cases_by_date(11, 3)\n",
    "    31\n",
    "    :param year: 4 digit integer representation of the year to get the cases for, defaults to 2020\n",
    "    :param day: Day of month to get the cases for as an integer indexed from 1\n",
    "    :param month: Month to get the cases for as an integer indexed from 1\n",
    "    :return: Number of cases on a given date as an integer\n",
    "    \"\"\"\n",
    "    \n",
    "    # Your code goes here (remove pass)\n",
    "    data14=datetime.date(year, month, day).strftime('%m/%d/%y').lstrip(\"0\").replace(\" 0\", \" \").replace(\"/0\", \"/\")\n",
    "    return df.loc[df[\"Country/Region\"]==\"Poland\",data14].values[0]\n",
    "\n",
    "\n",
    "def top5_countries_by_date(day: int, month: int, year: int = 2020) -> List[str]:\n",
    "    \"\"\"\n",
    "    Returns the top 5 infected countries given a date (confirmed cases).\n",
    "    Ex.\n",
    "    >>> top5_countries_by_date(27, 2, 2020)\n",
    "    ['China', 'Korea, South', 'Cruise Ship', 'Italy', 'Iran']\n",
    "    >>> top5_countries_by_date(12, 3)\n",
    "    ['China', 'Italy', 'Iran', 'Korea, South', 'France']\n",
    "    :param day: 4 digit integer representation of the year to get the countries for, defaults to 2020\n",
    "    :param month: Day of month to get the countries for as an integer indexed from 1\n",
    "    :param year: Month to get the countries for as an integer indexed from 1\n",
    "    :return: A list of strings with the names of the coutires\n",
    "    \"\"\"\n",
    "\n",
    "    # Your code goes here (remove pass)\n",
    "    data14=datetime.date(year, month, day).strftime('%m/%d/%y').lstrip(\"0\").replace(\" 0\", \" \").replace(\"/0\", \"/\")\n",
    "    return list(df[[\"Country/Region\",data14]].groupby(by=[\"Country/Region\"]).sum().sort_values(by=data14, ascending=False).head(5).index)\n",
    "\n",
    "\n",
    "def no_new_cases_count(day: int, month: int, year: int = 2020) -> int:\n",
    "    \"\"\"\n",
    "    Returns the number of countries/regions where the infection count in a given day was the same as the previous day.\n",
    "    Ex.\n",
    "    >>> no_new_cases_count(11, 2, 2020)\n",
    "    35\n",
    "    >>> no_new_cases_count(3, 3)\n",
    "    57\n",
    "    :param day: 4 digit integer representation of the year to get the cases for, defaults to 2020\n",
    "    :param month: Day of month to get the countries for as an integer indexed from 1\n",
    "    :param year: Month to get the countries for as an integer indexed from 1\n",
    "    :return: Number of countries/regions where the count has not changed in a day\n",
    "    \"\"\"\n",
    "    \n",
    "    # Your code goes here (remove pass)\n",
    "    data14=datetime.date(year, month, day)\n",
    "    data13=data14-datetime.timedelta(days=1)\n",
    "    data14=data14.strftime('%m/%d/%y').lstrip(\"0\").replace(\" 0\", \" \").replace(\"/0\", \"/\")\n",
    "    data13=data13.strftime('%m/%d/%y').lstrip(\"0\").replace(\" 0\", \" \").replace(\"/0\", \"/\")\n",
    "    return df.loc[df[data14]!=df[data13],data14].count()"
   ]
  },
  {
   "cell_type": "code",
   "execution_count": 28,
   "metadata": {},
   "outputs": [
    {
     "name": "stdout",
     "output_type": "stream",
     "text": [
      "5\n",
      "31\n",
      "['China', 'Korea, South', 'Cruise Ship', 'Italy', 'Iran']\n",
      "['China', 'Italy', 'Iran', 'Korea, South', 'France']\n",
      "35\n",
      "57\n"
     ]
    }
   ],
   "source": [
    "url = f\"https://raw.githubusercontent.com/CSSEGISandData/COVID-19/master/csse_covid_19_data/csse_covid_19_time_series/time_series_19-covid-Confirmed.csv\"\n",
    "df = pd.read_csv(url, error_bad_lines=False)\n",
    "print(poland_cases_by_date(7,3))\n",
    "print(poland_cases_by_date(11,3))\n",
    "print(top5_countries_by_date(27,2))\n",
    "print(top5_countries_by_date(12,3))\n",
    "print(no_new_cases_count(11,2))\n",
    "print(no_new_cases_count(3,3))"
   ]
  },
  {
   "cell_type": "code",
   "execution_count": null,
   "metadata": {},
   "outputs": [],
   "source": []
  }
 ],
 "metadata": {
  "kernelspec": {
   "display_name": "Python 3",
   "language": "python",
   "name": "python3"
  },
  "language_info": {
   "codemirror_mode": {
    "name": "ipython",
    "version": 3
   },
   "file_extension": ".py",
   "mimetype": "text/x-python",
   "name": "python",
   "nbconvert_exporter": "python",
   "pygments_lexer": "ipython3",
   "version": "3.7.6"
  }
 },
 "nbformat": 4,
 "nbformat_minor": 4
}
